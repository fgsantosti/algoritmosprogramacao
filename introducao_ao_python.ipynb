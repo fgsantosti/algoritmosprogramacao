{
  "nbformat": 4,
  "nbformat_minor": 0,
  "metadata": {
    "colab": {
      "provenance": [],
      "authorship_tag": "ABX9TyNPnW3cEwRu59gximTXa5/P",
      "include_colab_link": true
    },
    "kernelspec": {
      "name": "python3",
      "display_name": "Python 3"
    },
    "language_info": {
      "name": "python"
    }
  },
  "cells": [
    {
      "cell_type": "markdown",
      "metadata": {
        "id": "view-in-github",
        "colab_type": "text"
      },
      "source": [
        "<a href=\"https://colab.research.google.com/github/fgsantosti/algoritmosprogramacao/blob/master/introducao_ao_python.ipynb\" target=\"_parent\"><img src=\"https://colab.research.google.com/assets/colab-badge.svg\" alt=\"Open In Colab\"/></a>"
      ]
    },
    {
      "cell_type": "markdown",
      "source": [
        "# Primeiros passos em Python:\n",
        "- Sintaxe básica.\n",
        "- Comando print() e entrada de dados com input()."
      ],
      "metadata": {
        "id": "6vZVPIBKhoSj"
      }
    },
    {
      "cell_type": "code",
      "execution_count": null,
      "metadata": {
        "colab": {
          "base_uri": "https://localhost:8080/"
        },
        "id": "Ks-vaahXhiRi",
        "outputId": "7539a08b-9955-4de3-dbbd-52ae2c7af018"
      },
      "outputs": [
        {
          "output_type": "stream",
          "name": "stdout",
          "text": [
            "Ola mundo!\n"
          ]
        }
      ],
      "source": [
        "print(\"Ola mundo!\")"
      ]
    },
    {
      "cell_type": "code",
      "source": [
        "nome = input(\"Digite seu nome: \")"
      ],
      "metadata": {
        "colab": {
          "base_uri": "https://localhost:8080/"
        },
        "id": "ntxvX_enhuPm",
        "outputId": "49e959be-0189-411c-f3e9-fa87431e43ab"
      },
      "execution_count": null,
      "outputs": [
        {
          "name": "stdout",
          "output_type": "stream",
          "text": [
            "Digite seu nome: Felipe\n"
          ]
        }
      ]
    },
    {
      "cell_type": "code",
      "source": [
        "nome"
      ],
      "metadata": {
        "colab": {
          "base_uri": "https://localhost:8080/",
          "height": 36
        },
        "id": "rgDkUkqehyPv",
        "outputId": "ac38f54a-37a2-416c-a89f-0c360d5b7d9d"
      },
      "execution_count": null,
      "outputs": [
        {
          "output_type": "execute_result",
          "data": {
            "text/plain": [
              "'Felipe'"
            ],
            "application/vnd.google.colaboratory.intrinsic+json": {
              "type": "string"
            }
          },
          "metadata": {},
          "execution_count": 4
        }
      ]
    },
    {
      "cell_type": "markdown",
      "source": [
        "# Módulo 2: Variáveis, Tipos de Dados e Operadores\n",
        "Conteúdos:\n",
        "1. Variáveis e tipos de dados:\n",
        "- Números (int, float).\n",
        "- Strings.\n",
        "- Booleanos.\n",
        "2. Operadores:\n",
        "- Aritméticos (+, -, *, /, //, %, ).\n",
        "- Relacionais (==, !=, >, <, >=, <=).\n",
        "- Lógicos (and, or, not)"
      ],
      "metadata": {
        "id": "MzFW_m1LiAIk"
      }
    },
    {
      "cell_type": "code",
      "source": [
        "a = 10 #inteiro\n",
        "b = 5.5 #float\n",
        "c = \"Olá\" #string\n",
        "d = True #booleano"
      ],
      "metadata": {
        "id": "v6ai0abriJB-"
      },
      "execution_count": null,
      "outputs": []
    },
    {
      "cell_type": "code",
      "source": [
        "#Operadores\n",
        "soma = a + b\n",
        "subtracao = a - b\n",
        "multiplicacao = a * b\n",
        "divisao = a / b\n",
        "divisao_inteira = a // b\n",
        "resto_divisao = a % b"
      ],
      "metadata": {
        "id": "iLANjv8IiNg5"
      },
      "execution_count": null,
      "outputs": []
    },
    {
      "cell_type": "code",
      "source": [
        "#Relacionais\n",
        "igual = a == b\n",
        "diferente = a != b\n",
        "maior = a > b\n",
        "menor = a < b\n",
        "maior_igual = a >= b\n",
        "menor_igual = a <= b"
      ],
      "metadata": {
        "id": "10Zt6Xc4iSd3"
      },
      "execution_count": null,
      "outputs": []
    },
    {
      "cell_type": "code",
      "source": [
        "#Logicos\n",
        "a = 10\n",
        "b = 2\n",
        "e = a > b and a < b\n",
        "ou = a > b or a < b\n",
        "nao = not a > b\n",
        "print(e,ou,nao)\n"
      ],
      "metadata": {
        "id": "DdEBNY7RiWLl",
        "colab": {
          "base_uri": "https://localhost:8080/"
        },
        "outputId": "47ebf65d-3d6b-4cc6-8820-481f1ae55969"
      },
      "execution_count": null,
      "outputs": [
        {
          "output_type": "stream",
          "name": "stdout",
          "text": [
            "False\n",
            "False True False\n"
          ]
        }
      ]
    },
    {
      "cell_type": "code",
      "source": [
        "#verifica se é par\n",
        "par_impa = int(input(\"Digite um numero: \"))\n",
        "result = par_impa % 2\n",
        "print(result == 0)"
      ],
      "metadata": {
        "colab": {
          "base_uri": "https://localhost:8080/"
        },
        "id": "TARr2GI2x3hz",
        "outputId": "f486d44d-82b0-41a4-8724-2046a7349b7e"
      },
      "execution_count": null,
      "outputs": [
        {
          "output_type": "stream",
          "name": "stdout",
          "text": [
            "Digite um numero: 19\n",
            "False\n"
          ]
        }
      ]
    },
    {
      "cell_type": "code",
      "source": [
        "numero = int(input())\n",
        "result = numero % 2\n",
        "print(result)"
      ],
      "metadata": {
        "colab": {
          "base_uri": "https://localhost:8080/"
        },
        "id": "X9wn-ayF3WQq",
        "outputId": "5934d151-fc6c-49a1-f662-d165703fada7"
      },
      "execution_count": null,
      "outputs": [
        {
          "output_type": "stream",
          "name": "stdout",
          "text": [
            "11\n",
            "1\n"
          ]
        }
      ]
    },
    {
      "cell_type": "markdown",
      "source": [
        "# Módulo 3: Estruturas Condicionais\n",
        "Conteúdos:\n",
        "1. Estruturas condicionais:\n",
        "- if, elif, else.\n",
        "2. Condições aninhadas.\n",
        "3. Operador ternário."
      ],
      "metadata": {
        "id": "TNlFTaNozJoA"
      }
    },
    {
      "cell_type": "code",
      "source": [
        "#Estrutura Condicionais\n",
        "idade = int(input(\"Digite sua idade: \"))\n",
        "if idade >= 18:\n",
        "    print(\"Você é maior de idade.\")"
      ],
      "metadata": {
        "id": "HhD3xs-nzQ1j",
        "colab": {
          "base_uri": "https://localhost:8080/"
        },
        "outputId": "29f8e8b5-df00-4ece-a5e3-7cc6155fc92e"
      },
      "execution_count": null,
      "outputs": [
        {
          "name": "stdout",
          "output_type": "stream",
          "text": [
            "Digite sua idade: 17\n"
          ]
        }
      ]
    },
    {
      "cell_type": "code",
      "source": [
        "idade = int(input(\"Digite sua idade: \"))\n",
        "if idade >= 18:\n",
        "    print(\"Você é maior de idade.\")\n",
        "else:\n",
        "    print(\"Você é menor de idade.\")"
      ],
      "metadata": {
        "id": "XeAFLMkbzWM7",
        "colab": {
          "base_uri": "https://localhost:8080/"
        },
        "outputId": "265240d5-a5f1-40c5-83dd-bcb09a094b24"
      },
      "execution_count": null,
      "outputs": [
        {
          "output_type": "stream",
          "name": "stdout",
          "text": [
            "Digite sua idade: 17\n",
            "Você é menor de idade.\n"
          ]
        }
      ]
    },
    {
      "cell_type": "code",
      "source": [
        "idade = int(input(\"Digite sua idade: \"))\n",
        "if idade >= 18:\n",
        "    print(\"Você é maior de idade.\")\n",
        "elif idade >= 16:\n",
        "    print(\"Você pode votar.\")\n",
        "else:\n",
        "    print(\"Você é menor de idade.\")"
      ],
      "metadata": {
        "id": "ehfgLp-PzZ_R"
      },
      "execution_count": null,
      "outputs": []
    },
    {
      "cell_type": "code",
      "source": [
        "#operadores ternarios 1\n",
        "x = 10\n",
        "print (\"par\" if x % 2 == 0 else \"impar\")"
      ],
      "metadata": {
        "colab": {
          "base_uri": "https://localhost:8080/"
        },
        "id": "e0beD_TDzmkq",
        "outputId": "fad778e5-9a28-4b69-8d67-e77c5d420a5d"
      },
      "execution_count": null,
      "outputs": [
        {
          "output_type": "stream",
          "name": "stdout",
          "text": [
            "par\n"
          ]
        }
      ]
    },
    {
      "cell_type": "code",
      "source": [
        "#operadores ternarios 2\n",
        "x = 11\n",
        "print (x % 2 == 0 and \"par\" or \"impar\")"
      ],
      "metadata": {
        "colab": {
          "base_uri": "https://localhost:8080/"
        },
        "id": "ItGS-Q_FyxyI",
        "outputId": "89e7dfe7-32b7-4522-9b6b-88634c4e4a0d"
      },
      "execution_count": null,
      "outputs": [
        {
          "output_type": "stream",
          "name": "stdout",
          "text": [
            "impar\n"
          ]
        }
      ]
    },
    {
      "cell_type": "code",
      "source": [
        "numero = int(input())\n",
        "result ="
      ],
      "metadata": {
        "id": "vM2iPZDn2TO6"
      },
      "execution_count": null,
      "outputs": []
    }
  ]
}