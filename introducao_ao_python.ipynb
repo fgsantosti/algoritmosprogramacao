{
  "nbformat": 4,
  "nbformat_minor": 0,
  "metadata": {
    "colab": {
      "provenance": [],
      "authorship_tag": "ABX9TyPOBqOHnFcvrZw7d8+SYn+t",
      "include_colab_link": true
    },
    "kernelspec": {
      "name": "python3",
      "display_name": "Python 3"
    },
    "language_info": {
      "name": "python"
    }
  },
  "cells": [
    {
      "cell_type": "markdown",
      "metadata": {
        "id": "view-in-github",
        "colab_type": "text"
      },
      "source": [
        "<a href=\"https://colab.research.google.com/github/fgsantosti/algoritmosprogramacao/blob/master/introducao_ao_python.ipynb\" target=\"_parent\"><img src=\"https://colab.research.google.com/assets/colab-badge.svg\" alt=\"Open In Colab\"/></a>"
      ]
    },
    {
      "cell_type": "markdown",
      "source": [
        "# Módulo 1: Primeiros passos em Python:\n",
        "- Sintaxe básica.\n",
        "- Comando print() e entrada de dados com input()."
      ],
      "metadata": {
        "id": "6vZVPIBKhoSj"
      }
    },
    {
      "cell_type": "code",
      "execution_count": null,
      "metadata": {
        "colab": {
          "base_uri": "https://localhost:8080/"
        },
        "id": "Ks-vaahXhiRi",
        "outputId": "7539a08b-9955-4de3-dbbd-52ae2c7af018"
      },
      "outputs": [
        {
          "output_type": "stream",
          "name": "stdout",
          "text": [
            "Ola mundo!\n"
          ]
        }
      ],
      "source": [
        "print(\"Ola mundo!\")"
      ]
    },
    {
      "cell_type": "code",
      "source": [
        "nome = input(\"Digite seu nome: \")"
      ],
      "metadata": {
        "colab": {
          "base_uri": "https://localhost:8080/"
        },
        "id": "ntxvX_enhuPm",
        "outputId": "49e959be-0189-411c-f3e9-fa87431e43ab"
      },
      "execution_count": null,
      "outputs": [
        {
          "name": "stdout",
          "output_type": "stream",
          "text": [
            "Digite seu nome: Felipe\n"
          ]
        }
      ]
    },
    {
      "cell_type": "code",
      "source": [
        "nome"
      ],
      "metadata": {
        "colab": {
          "base_uri": "https://localhost:8080/",
          "height": 36
        },
        "id": "rgDkUkqehyPv",
        "outputId": "ac38f54a-37a2-416c-a89f-0c360d5b7d9d"
      },
      "execution_count": null,
      "outputs": [
        {
          "output_type": "execute_result",
          "data": {
            "text/plain": [
              "'Felipe'"
            ],
            "application/vnd.google.colaboratory.intrinsic+json": {
              "type": "string"
            }
          },
          "metadata": {},
          "execution_count": 4
        }
      ]
    },
    {
      "cell_type": "markdown",
      "source": [
        "# Módulo 2: Variáveis, Tipos de Dados e Operadores\n",
        "Conteúdos:\n",
        "1. Variáveis e tipos de dados:\n",
        "- Números (int, float).\n",
        "- Strings.\n",
        "- Booleanos.\n",
        "2. Operadores:\n",
        "- Aritméticos (+, -, *, /, //, %, ).\n",
        "- Relacionais (==, !=, >, <, >=, <=).\n",
        "- Lógicos (and, or, not)"
      ],
      "metadata": {
        "id": "MzFW_m1LiAIk"
      }
    },
    {
      "cell_type": "code",
      "source": [
        "a = 10 #inteiro\n",
        "b = 5.5 #float\n",
        "c = \"Olá\" #string\n",
        "d = True #booleano"
      ],
      "metadata": {
        "id": "v6ai0abriJB-"
      },
      "execution_count": null,
      "outputs": []
    },
    {
      "cell_type": "code",
      "source": [
        "#Operadores\n",
        "soma = a + b\n",
        "subtracao = a - b\n",
        "multiplicacao = a * b\n",
        "divisao = a / b\n",
        "divisao_inteira = a // b\n",
        "resto_divisao = a % b"
      ],
      "metadata": {
        "id": "iLANjv8IiNg5"
      },
      "execution_count": null,
      "outputs": []
    },
    {
      "cell_type": "code",
      "source": [
        "#Relacionais\n",
        "igual = a == b\n",
        "diferente = a != b\n",
        "maior = a > b\n",
        "menor = a < b\n",
        "maior_igual = a >= b\n",
        "menor_igual = a <= b"
      ],
      "metadata": {
        "id": "10Zt6Xc4iSd3"
      },
      "execution_count": null,
      "outputs": []
    },
    {
      "cell_type": "code",
      "source": [
        "#Logicos\n",
        "a = 10\n",
        "b = 2\n",
        "e = a > b and a < b\n",
        "ou = a > b or a < b\n",
        "nao = not a > b\n",
        "print(e,ou,nao)\n"
      ],
      "metadata": {
        "id": "DdEBNY7RiWLl",
        "colab": {
          "base_uri": "https://localhost:8080/"
        },
        "outputId": "47ebf65d-3d6b-4cc6-8820-481f1ae55969"
      },
      "execution_count": null,
      "outputs": [
        {
          "output_type": "stream",
          "name": "stdout",
          "text": [
            "False\n",
            "False True False\n"
          ]
        }
      ]
    },
    {
      "cell_type": "code",
      "source": [
        "#verifica se é par\n",
        "par_impa = int(input(\"Digite um numero: \"))\n",
        "result = par_impa % 2\n",
        "print(result == 0)"
      ],
      "metadata": {
        "colab": {
          "base_uri": "https://localhost:8080/"
        },
        "id": "TARr2GI2x3hz",
        "outputId": "f486d44d-82b0-41a4-8724-2046a7349b7e"
      },
      "execution_count": null,
      "outputs": [
        {
          "output_type": "stream",
          "name": "stdout",
          "text": [
            "Digite um numero: 19\n",
            "False\n"
          ]
        }
      ]
    },
    {
      "cell_type": "code",
      "source": [
        "numero = int(input())\n",
        "result = numero % 2\n",
        "print(result)"
      ],
      "metadata": {
        "colab": {
          "base_uri": "https://localhost:8080/"
        },
        "id": "X9wn-ayF3WQq",
        "outputId": "5934d151-fc6c-49a1-f662-d165703fada7"
      },
      "execution_count": null,
      "outputs": [
        {
          "output_type": "stream",
          "name": "stdout",
          "text": [
            "11\n",
            "1\n"
          ]
        }
      ]
    },
    {
      "cell_type": "markdown",
      "source": [
        "# Módulo 3: Estruturas Condicionais\n",
        "Conteúdos:\n",
        "1. Estruturas condicionais:\n",
        "- if, elif, else.\n",
        "2. Condições aninhadas.\n",
        "3. Operador ternário."
      ],
      "metadata": {
        "id": "TNlFTaNozJoA"
      }
    },
    {
      "cell_type": "code",
      "source": [
        "#Estrutura Condicionais\n",
        "idade = int(input(\"Digite sua idade: \"))\n",
        "if idade >= 18:\n",
        "    print(\"Você é maior de idade.\")"
      ],
      "metadata": {
        "id": "HhD3xs-nzQ1j",
        "colab": {
          "base_uri": "https://localhost:8080/"
        },
        "outputId": "29f8e8b5-df00-4ece-a5e3-7cc6155fc92e"
      },
      "execution_count": null,
      "outputs": [
        {
          "name": "stdout",
          "output_type": "stream",
          "text": [
            "Digite sua idade: 17\n"
          ]
        }
      ]
    },
    {
      "cell_type": "code",
      "source": [
        "idade = int(input(\"Digite sua idade: \"))\n",
        "if idade >= 18:\n",
        "    print(\"Você é maior de idade.\")\n",
        "else:\n",
        "    print(\"Você é menor de idade.\")"
      ],
      "metadata": {
        "id": "XeAFLMkbzWM7",
        "colab": {
          "base_uri": "https://localhost:8080/"
        },
        "outputId": "265240d5-a5f1-40c5-83dd-bcb09a094b24"
      },
      "execution_count": null,
      "outputs": [
        {
          "output_type": "stream",
          "name": "stdout",
          "text": [
            "Digite sua idade: 17\n",
            "Você é menor de idade.\n"
          ]
        }
      ]
    },
    {
      "cell_type": "code",
      "source": [
        "idade = int(input(\"Digite sua idade: \"))\n",
        "if idade >= 18:\n",
        "    print(\"Você é maior de idade.\")\n",
        "elif idade >= 16:\n",
        "    print(\"Você pode votar.\")\n",
        "else:\n",
        "    print(\"Você é menor de idade.\")"
      ],
      "metadata": {
        "id": "ehfgLp-PzZ_R"
      },
      "execution_count": null,
      "outputs": []
    },
    {
      "cell_type": "code",
      "source": [
        "#operadores ternarios 1\n",
        "x = 10\n",
        "print (\"par\" if x % 2 == 0 else \"impar\")"
      ],
      "metadata": {
        "colab": {
          "base_uri": "https://localhost:8080/"
        },
        "id": "e0beD_TDzmkq",
        "outputId": "fad778e5-9a28-4b69-8d67-e77c5d420a5d"
      },
      "execution_count": null,
      "outputs": [
        {
          "output_type": "stream",
          "name": "stdout",
          "text": [
            "par\n"
          ]
        }
      ]
    },
    {
      "cell_type": "code",
      "source": [
        "#operadores ternarios 2\n",
        "x = 11\n",
        "print (x % 2 == 0 and \"par\" or \"impar\")"
      ],
      "metadata": {
        "colab": {
          "base_uri": "https://localhost:8080/"
        },
        "id": "ItGS-Q_FyxyI",
        "outputId": "89e7dfe7-32b7-4522-9b6b-88634c4e4a0d"
      },
      "execution_count": null,
      "outputs": [
        {
          "output_type": "stream",
          "name": "stdout",
          "text": [
            "impar\n"
          ]
        }
      ]
    },
    {
      "cell_type": "code",
      "source": [
        "numero = int(input())\n",
        "result = numero % 2\n",
        "print(\"par\" if result == 0 else \"impar\")"
      ],
      "metadata": {
        "id": "vM2iPZDn2TO6"
      },
      "execution_count": null,
      "outputs": []
    },
    {
      "cell_type": "markdown",
      "source": [
        "# Módulo 4: Estruturas de Repetição"
      ],
      "metadata": {
        "id": "n2Bm_HX9HTBc"
      }
    },
    {
      "cell_type": "markdown",
      "source": [
        "## While"
      ],
      "metadata": {
        "id": "pNUbRHuPH9Ic"
      }
    },
    {
      "cell_type": "code",
      "source": [
        "#while\n",
        "i = 0 #inicialização\n",
        "while i < 100000: #condição\n",
        "    print(i) #instrução\n",
        "    i = i+1 #incremento i+=1"
      ],
      "metadata": {
        "id": "Wmy2ZWMB5jL6"
      },
      "execution_count": null,
      "outputs": []
    },
    {
      "cell_type": "code",
      "source": [
        "#while\n",
        "i = 0\n",
        "while i < 10:\n",
        "    print(i)\n",
        "    i += 1"
      ],
      "metadata": {
        "id": "u7QosOKzHdZ0"
      },
      "execution_count": null,
      "outputs": []
    },
    {
      "cell_type": "code",
      "source": [
        "#verificando idade com while\n",
        "idade = int(input(\"Digite sua idade: \"))\n",
        "while idade < 18:\n",
        "    print(\"Você é menor de idade.\")\n",
        "    idade = int(input(\"Digite sua idade: \"))\n",
        "print(\"Você é maior de idade.\")\n"
      ],
      "metadata": {
        "id": "m1HTgTREHzl0"
      },
      "execution_count": null,
      "outputs": []
    },
    {
      "cell_type": "code",
      "source": [
        "#calculando juros com while\n",
        "valor = float(input('Valor do emprestimo: '))\n",
        "quant_meses = int(input('Quantidade de meses: '))\n",
        "taxa_m = valor * 0.01\n",
        "taxa_a = 0\n",
        "\n",
        "while quant_meses > 0:\n",
        "  taxa_a = taxa_a + taxa_m\n",
        "  quant_meses = quant_meses - 1\n",
        "\n",
        "print('A taxa a pagar anual é: ', taxa_a)"
      ],
      "metadata": {
        "id": "9WBydj8bHkaD"
      },
      "execution_count": null,
      "outputs": []
    },
    {
      "cell_type": "markdown",
      "source": [
        "## For\n"
      ],
      "metadata": {
        "id": "8V8g_tDWH_GD"
      }
    },
    {
      "cell_type": "code",
      "source": [
        "#for\n",
        "for i in range(10):\n",
        "    print(i)\n",
        "\n",
        "for i in range(1, 10):\n",
        "    print(i)\n",
        "\n",
        "for i in range(1, 10, 2):\n",
        "    print(i)"
      ],
      "metadata": {
        "id": "RRNlVWHS6u60"
      },
      "execution_count": null,
      "outputs": []
    },
    {
      "cell_type": "code",
      "source": [
        "[x for x in range(5)] #forma resumida"
      ],
      "metadata": {
        "colab": {
          "base_uri": "https://localhost:8080/"
        },
        "id": "UYuSmpj7aWlQ",
        "outputId": "e53f2a8d-0826-4897-f98f-fa0631542833"
      },
      "execution_count": 1,
      "outputs": [
        {
          "output_type": "execute_result",
          "data": {
            "text/plain": [
              "[0, 1, 2, 3, 4]"
            ]
          },
          "metadata": {},
          "execution_count": 1
        }
      ]
    },
    {
      "cell_type": "code",
      "source": [
        "#calculando juros com for\n",
        "valor = float(input('Valor do emprestimo: '))\n",
        "quant_meses = int(input('Quantidade de meses: '))\n",
        "taxa_m = valor * 0.0125\n",
        "taxa_a = 0.0\n",
        "\n",
        "for i in range(0,quant_meses):\n",
        "  taxa_a = taxa_a + taxa_m\n",
        "\n",
        "print('A taxa a pagar anual é: ', taxa_a)"
      ],
      "metadata": {
        "colab": {
          "base_uri": "https://localhost:8080/"
        },
        "id": "8OvsjgzJ-4RC",
        "outputId": "ed42a669-5b27-4a37-b86d-ac524c831d89"
      },
      "execution_count": null,
      "outputs": [
        {
          "output_type": "stream",
          "name": "stdout",
          "text": [
            "Valor do emprestimo: 1000\n",
            "Quantidade de meses: 24\n",
            "A taxa a pagar anual é:  300.0\n"
          ]
        }
      ]
    },
    {
      "cell_type": "markdown",
      "source": [
        "# Dicas para as questões do Becrowd"
      ],
      "metadata": {
        "id": "s2oF0cbTti4T"
      }
    },
    {
      "cell_type": "code",
      "source": [
        "#\n",
        "linha1_entrada = input().strip()\n",
        "valores1 = linha1_entrada.split()\n",
        "linha2_entrada = input().strip()\n",
        "valores2 = linha2_entrada.split()\n",
        "\n",
        "cp1, np1, vp1 = int(valores1[0]), int(valores1[1]), float(valores1[2])\n",
        "cp2, np2, vp2 = int(valores2[0]), int(valores2[1]), float(valores2[2])\n",
        "\n",
        "\n",
        "total = (np1 * vp1) + (np2 * vp2)\n",
        "print(f\"VALOR A PAGAR: R$ {total:.2f}\")"
      ],
      "metadata": {
        "id": "TocVmKEVt-n4"
      },
      "execution_count": null,
      "outputs": []
    },
    {
      "cell_type": "code",
      "source": [
        "#Map é usado quando preciso pegar dados do mesmo tipo em uma so linha\n",
        "n, k = map(int, input().split())\n",
        "a = 0\n",
        "\n",
        "for i in range(1, 2 * n + 1):\n",
        "  if (i * i - k) % (2 * n + 1) == 0 and i * i != k:\n",
        "    a = (i * i)\n",
        "print(a)"
      ],
      "metadata": {
        "id": "cERdC6TqtptH"
      },
      "execution_count": null,
      "outputs": []
    },
    {
      "cell_type": "code",
      "source": [
        "#https://leetcode.com/problems/two-sum/description/\n",
        "\n",
        "class Solution:\n",
        "    def twoSum(self, nums: List[int], target: int) -> List[int]:\n",
        "        for i in range(len(nums)):\n",
        "            for j in range(i+1,len(nums)):\n",
        "                sum = nums[i] + nums[j]\n",
        "                if sum == target:\n",
        "                    return [i, j]"
      ],
      "metadata": {
        "id": "4BSSjbFqQJAl"
      },
      "execution_count": null,
      "outputs": []
    },
    {
      "cell_type": "markdown",
      "source": [
        "# Módulo 5: Listas e Estruturas de Dados Simples\n",
        "1. Listas:\n",
        "- Criação, acesso e modificação de elementos.\n",
        "- Métodos comuns (append(), remove(), sort(), etc.).\n",
        "2. Fatiamento de listas.\n",
        "3. Iteração sobre listas."
      ],
      "metadata": {
        "id": "0NBpDp05eFoQ"
      }
    },
    {
      "cell_type": "code",
      "source": [
        "#criar lista\n",
        "lista = [1, 22, 32, 4, 5]\n",
        "\n",
        "#acessar dados da lista\n",
        "print(lista[0])\n",
        "print(lista[1])\n",
        "print(lista[2])\n",
        "print(lista[3])\n",
        "print(lista[4])\n",
        "\n",
        "#modificar elementos da lista\n",
        "lista[0] = 10\n",
        "print(lista)"
      ],
      "metadata": {
        "id": "D3chK4hDeHvd"
      },
      "execution_count": null,
      "outputs": []
    },
    {
      "cell_type": "code",
      "source": [
        "#exibir a lista elemento por elemento\n",
        "for i in lista:\n",
        "    print(i)"
      ],
      "metadata": {
        "id": "NdquysLdeyfH"
      },
      "execution_count": null,
      "outputs": []
    },
    {
      "cell_type": "code",
      "source": [
        "#adicionar elementos a lista\n",
        "lista.append(6)\n",
        "print(lista)"
      ],
      "metadata": {
        "id": "dn8Daiobe-7z"
      },
      "execution_count": null,
      "outputs": []
    },
    {
      "cell_type": "code",
      "source": [
        "#remover elementos da lista\n",
        "lista.remove(6)\n",
        "print(lista)"
      ],
      "metadata": {
        "id": "oHTm-PWEfD_k"
      },
      "execution_count": null,
      "outputs": []
    },
    {
      "cell_type": "code",
      "source": [
        "#ordenar a lista\n",
        "lista.sort()\n",
        "print(lista)"
      ],
      "metadata": {
        "id": "kP01ncjnfH0e"
      },
      "execution_count": null,
      "outputs": []
    },
    {
      "cell_type": "code",
      "source": [
        "lista.sort(reverse=True)\n",
        "print(lista)\n",
        "\n",
        "lista.reverse()\n",
        "print(lista)"
      ],
      "metadata": {
        "id": "mxI2tayFfQf_"
      },
      "execution_count": null,
      "outputs": []
    },
    {
      "cell_type": "code",
      "source": [
        "#fatiamento\n",
        "lista = [1, 2, 3, 4, 5, 6, 7, 8, 9, 10]\n",
        "print(lista[0:3])\n",
        "print(lista[3:6])\n",
        "print(lista[6:9])"
      ],
      "metadata": {
        "id": "PWHRtd3PfYeb"
      },
      "execution_count": null,
      "outputs": []
    },
    {
      "cell_type": "code",
      "source": [
        "#Iteração sobre listas\n",
        "for i in lista:\n",
        "    print(i)\n",
        "\n",
        "i = 0\n",
        "while i < len(lista):\n",
        "    print(lista[i])\n",
        "    i += 1"
      ],
      "metadata": {
        "id": "cc5cVZLaffGa"
      },
      "execution_count": null,
      "outputs": []
    },
    {
      "cell_type": "markdown",
      "source": [
        "# Módulo 6: Funções\n",
        "1. Definição de funções:\n",
        "- Parâmetros e retorno.\n",
        "2. Escopo de variáveis.\n",
        "3. Funções built-in vs. funções definidas pelo usuário."
      ],
      "metadata": {
        "id": "UdXgIIukcSLe"
      }
    },
    {
      "cell_type": "code",
      "source": [],
      "metadata": {
        "id": "b-E-7kcvcWrQ"
      },
      "execution_count": null,
      "outputs": []
    },
    {
      "cell_type": "code",
      "source": [
        "#enumeração\n",
        "for i, valor in enumerate(range(10)):\n",
        "    print(i, valor)\n",
        "\n",
        "#enumeração - quando você quer interar por uma lista e precisa dos seus indices\n",
        "frutas = ['maça', 'banana', 'laranja']\n",
        "for i, fruta in enumerate(frutas):\n",
        "    print(i, fruta)\n"
      ],
      "metadata": {
        "id": "Y1EtdW9MQNg8"
      },
      "execution_count": null,
      "outputs": []
    }
  ]
}